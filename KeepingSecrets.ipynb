{
 "cells": [
  {
   "cell_type": "markdown",
   "metadata": {},
   "source": [
    "# Python Cryptography - Keeping Secrets from the NSA"
   ]
  },
  {
   "cell_type": "markdown",
   "metadata": {},
   "source": [
    "Crypto Challenge: \n",
    "\n",
    "`Erzrzore gb qevax lbhe Binygvar!`\n",
    "\n",
    "`Q29uZ3JhdHVsYXRpb25zISBIZXJlIGlzIGEgcmFuZG9tIGVhc3RlciBlZ2c6DQoNCmFIUjBjSE02THk5NWIzVjBkUzVpWlM5b1gyeDZaMjgzY0cxNmF3PT0=`"
   ]
  },
  {
   "cell_type": "markdown",
   "metadata": {},
   "source": [
    "Another:\n",
    "\n",
    "`UGxlYXNlIGxldCBtZSBrbm93IHdoYXQgeW91IHRoaW5rIG9mIG15IHRhbGs6DQoNCmh0dHA6Ly9zcGtyOC5jb20vdC83NDMyMQ==`"
   ]
  },
  {
   "cell_type": "markdown",
   "metadata": {},
   "source": [
    "## General Security - Can we actually keep secrets?\n",
    "* Application security\n",
    "* OWASP Top Ten\n",
    "* SQL Injection\n",
    "* XSS, CSRF\n",
    "* Access control\n",
    "* Authentication\n",
    "* Secure SDLC - BSIMM\n",
    "* Security Assessments\n",
    "* Physical Security\n",
    "* Data Encryption at Rest\n"
   ]
  },
  {
   "cell_type": "markdown",
   "metadata": {},
   "source": [
    "## Outline\n",
    "* Define Terms\n",
    "* Introduce Bob and Alice\n",
    "* Hashing vs Encryption\n",
    "* Symmetric vs Asymetric Encryption\n",
    "* AES\n",
    "* Eliptic Curve Cryptography\n",
    "* Let's build an App! \n"
   ]
  },
  {
   "cell_type": "markdown",
   "metadata": {},
   "source": [
    "## Definitions\n",
    "* Plain Text - message to keep secret\n",
    "* Ciphertext - encrypted Plain Text message\n",
    "* Sender\n",
    "* Receiver"
   ]
  },
  {
   "cell_type": "markdown",
   "metadata": {},
   "source": [
    "## Definitions\n",
    "* Authentication - the receiver of a message should be able to ascertain the sender, and an intruder should not be able to masquarade as the sender\n",
    "* Integrity - Message has not been modified in transit\n",
    "* Nonrepudiation - Sender cannot deny having sent a message"
   ]
  },
  {
   "cell_type": "markdown",
   "metadata": {},
   "source": [
    "## Algorithms\n",
    "![](img/al_gore.gif)"
   ]
  },
  {
   "cell_type": "markdown",
   "metadata": {},
   "source": [
    "## Definitions\n",
    "* Cryptographic Algorithm (Cipher) - Mathematical function for encrypting or decrypting a message\n",
    "* Restricted Algorithms - Cipher held privately by the users \n",
    "  * Can't be used by a large or changing group of users\n",
    "  * Can't be Quality Controlled or Standardized\n",
    "* Key - Allows the Cipher to be public, while maintaining the secrecy of the message"
   ]
  },
  {
   "cell_type": "markdown",
   "metadata": {},
   "source": [
    "<img src=\"img/business-people-collection-15-003.png/\" width=\"400\" >"
   ]
  },
  {
   "cell_type": "markdown",
   "metadata": {},
   "source": [
    "<img src=\"img/business-people-collection-15-009.png\" width=\"400\">"
   ]
  },
  {
   "cell_type": "markdown",
   "metadata": {},
   "source": [
    "## Features \n",
    "1. User Login (storing passwords)\n",
    "2. Storing OAuth2 refresh tokens"
   ]
  },
  {
   "cell_type": "markdown",
   "metadata": {},
   "source": [
    "## QuickBooks Online OAuth2 Token Storage\n",
    "\n",
    "> Be sure to encrypt the refresh_token before saving it to persistent storage. Then, decrypt the it and store it in volatile memory when you need to use it to refresh the access_token."
   ]
  },
  {
   "cell_type": "markdown",
   "metadata": {},
   "source": [
    "## Option 1 - Plaintext\n",
    "\n",
    "* Alices finds [plaintextoffenders.com](http://plaintextoffenders.com/)\n",
    "* Need Another option"
   ]
  },
  {
   "cell_type": "markdown",
   "metadata": {},
   "source": [
    "## Option 2 - Caeser Cipher / Base64 Encoding\n",
    "* "
   ]
  },
  {
   "cell_type": "markdown",
   "metadata": {},
   "source": [
    "## Hashes\n",
    "* MD5\n",
    "* SHA-1 - 256\n",
    "* "
   ]
  },
  {
   "cell_type": "code",
   "execution_count": null,
   "metadata": {},
   "outputs": [],
   "source": []
  },
  {
   "cell_type": "code",
   "execution_count": null,
   "metadata": {},
   "outputs": [],
   "source": []
  },
  {
   "cell_type": "markdown",
   "metadata": {},
   "source": [
    "## Notes:\n",
    "Security Now Transcripts:\n",
    "* [Cryptographic Backdoors](https://www.grc.com/sn/sn-491.pdf)\n",
    "* [Eliptic Curve Cryptography](https://www.grc.com/sn/sn-374.pdf) - Also available in Applied Crypto book\n",
    "* [Authenticated Encryption](https://www.grc.com/sn/sn-460-notes.pdf)\n",
    "* [Symetric Ciphers](https://www.grc.com/sn/sn-125.pdf)\n",
    "* [NSA Fingerprints](https://www.grc.com/sn/sn-644-notes.pdf)"
   ]
  },
  {
   "cell_type": "markdown",
   "metadata": {},
   "source": [
    "## References\n",
    "* [Password Hashing Competition](https://password-hashing.net/)\n"
   ]
  }
 ],
 "metadata": {
  "kernelspec": {
   "display_name": "Python 3",
   "language": "python",
   "name": "python3"
  },
  "language_info": {
   "codemirror_mode": {
    "name": "ipython",
    "version": 3
   },
   "file_extension": ".py",
   "mimetype": "text/x-python",
   "name": "python",
   "nbconvert_exporter": "python",
   "pygments_lexer": "ipython3",
   "version": "3.6.4"
  }
 },
 "nbformat": 4,
 "nbformat_minor": 2
}
