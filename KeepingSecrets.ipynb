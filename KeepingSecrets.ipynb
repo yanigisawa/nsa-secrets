{
 "cells": [
  {
   "cell_type": "markdown",
   "metadata": {
    "slideshow": {
     "slide_type": "slide"
    }
   },
   "source": [
    "# Python Cryptography - Keeping Secrets from the NSA"
   ]
  },
  {
   "cell_type": "markdown",
   "metadata": {
    "slideshow": {
     "slide_type": "fragment"
    }
   },
   "source": [
    "... or at least we'll give it our best shot"
   ]
  },
  {
   "cell_type": "markdown",
   "metadata": {
    "slideshow": {
     "slide_type": "slide"
    }
   },
   "source": [
    "## About\n",
    "* James Alexander\n",
    "* https://jamesralexander.com\n",
    "* @yanigisawa"
   ]
  },
  {
   "cell_type": "markdown",
   "metadata": {
    "slideshow": {
     "slide_type": "slide"
    }
   },
   "source": [
    "Crypto Challenge:\n",
    "\n",
    "http://bit.ly/nsa-secrets\n",
    "\n",
    "`Erzrzore gb qevax lbhe Binygvar!`\n",
    "\n",
    "`Q29uZ3JhdHVsYXRpb25zISBIZXJlIGlzIGEgcmFuZG9tIGVhc3RlciBlZ2c6DQoNCmFIUjBjSE02THk5NWIzVjBkUzVpWlM5b1gyeDZaMjgzY0cxNmF3PT0=`"
   ]
  },
  {
   "cell_type": "markdown",
   "metadata": {
    "slideshow": {
     "slide_type": "slide"
    }
   },
   "source": [
    "## General Security - Can we actually keep secrets?\n",
    "* Application security\n",
    "* OWASP Top Ten\n",
    "* SQL Injection\n",
    "* XSS, CSRF\n",
    "* Access control\n",
    "* Authentication\n",
    "* Secure SDLC - BSIMM\n",
    "* Security Assessments\n",
    "* Physical Security\n",
    "\n"
   ]
  },
  {
   "cell_type": "markdown",
   "metadata": {
    "slideshow": {
     "slide_type": "notes"
    }
   },
   "source": [
    "* BSIMM - Building Security in Maturity Model - study of exising software security initiatives"
   ]
  },
  {
   "cell_type": "markdown",
   "metadata": {
    "slideshow": {
     "slide_type": "fragment"
    }
   },
   "source": [
    "* Data Encryption at Rest"
   ]
  },
  {
   "cell_type": "markdown",
   "metadata": {
    "slideshow": {
     "slide_type": "slide"
    }
   },
   "source": [
    "## Topics\n",
    "* Define Terms & Background information\n",
    "* Introduce Bob & Alice\n",
    "* Discuss the following for building an App:\n",
    "  * Storing Passwords (Hashes)\n",
    "  * Storing OAuth2 Tokens Securely (Rijndael / AES)\n",
    "\n",
    "\n"
   ]
  },
  {
   "cell_type": "markdown",
   "metadata": {
    "slideshow": {
     "slide_type": "notes"
    }
   },
   "source": [
    "* Alice, Bob, Carol, Dave, Eve, Faith, Mallory, Trent"
   ]
  },
  {
   "cell_type": "markdown",
   "metadata": {
    "slideshow": {
     "slide_type": "slide"
    }
   },
   "source": [
    "## Definitions\n",
    "* Plain Text - message to keep secret\n",
    "* Ciphertext - encrypted Plain Text message\n",
    "* Sender\n",
    "* Receiver\n",
    "\n",
    "\\begin{equation*}\n",
    "E(M)   = C\n",
    "\\end{equation*}\n",
    "\n",
    "\\begin{equation*}\n",
    "D(C)   = M\n",
    "\\end{equation*}\n",
    "\n",
    "\\begin{equation*}\n",
    "D(E(M)) = M\n",
    "\\end{equation*}"
   ]
  },
  {
   "cell_type": "markdown",
   "metadata": {
    "slideshow": {
     "slide_type": "subslide"
    }
   },
   "source": [
    "## Definitions\n",
    "* Authentication - the receiver of a message should be able to ascertain the sender, and an intruder should not be able to masquarade as the sender\n",
    "* Integrity - Message has not been modified in transit\n",
    "* Nonrepudiation - Sender cannot deny having sent a message"
   ]
  },
  {
   "cell_type": "markdown",
   "metadata": {
    "slideshow": {
     "slide_type": "subslide"
    }
   },
   "source": [
    "## Algorithms\n",
    "![](img/al_gore.gif)"
   ]
  },
  {
   "cell_type": "markdown",
   "metadata": {
    "slideshow": {
     "slide_type": "subslide"
    }
   },
   "source": [
    "## Definitions\n",
    "\n",
    "### Kerchoff's Principle: \n",
    "```\n",
    "A cryptosystem should be secure even if everything about the system, \n",
    "except the key, is public knowledge.\n",
    "```\n",
    "\n",
    "* Cryptographic Algorithm (Cipher) - Mathematical function for encrypting or decrypting a message\n",
    "* Restricted Algorithms - Cipher held privately by the users \n",
    "  * Can't be used by a large or changing group of users\n",
    "  * Can't be Quality Controlled or Standardized\n",
    "* Key - Allows the Cipher to be public, while maintaining the secrecy of the message"
   ]
  },
  {
   "cell_type": "markdown",
   "metadata": {
    "slideshow": {
     "slide_type": "subslide"
    }
   },
   "source": [
    "## Definitions\n",
    "* Symmetric Algorithm - uses same key to encyrpt and decrypt\n",
    "  * Stream vs Block ciphers\n",
    "\n",
    "\\begin{equation*}\n",
    "E_{K}(M)   = C\n",
    "\\end{equation*}\n",
    "\n",
    "\\begin{equation*}\n",
    "D_{K}(C)   = M\n",
    "\\end{equation*}\n",
    "  \n",
    "* Asymetric - uses different key to encrypt and decrypt\n",
    "  * SSH, TLS, GPG\n",
    "\n",
    "\\begin{equation*}\n",
    "E_{K1}(M)   = C\n",
    "\\end{equation*}\n",
    "\n",
    "\\begin{equation*}\n",
    "D_{K2}(C)   = M\n",
    "\\end{equation*}"
   ]
  },
  {
   "cell_type": "markdown",
   "metadata": {
    "slideshow": {
     "slide_type": "subslide"
    }
   },
   "source": [
    "## Cryptanalysis\n",
    "* Eavesdroppers have complete access to commucation\n",
    "* Cryptanalyst has complete knowledge of algorithm\n",
    "* Goal is to find the key, or plaintext, or both\n"
   ]
  },
  {
   "cell_type": "markdown",
   "metadata": {
    "slideshow": {
     "slide_type": "subslide"
    }
   },
   "source": [
    "\n",
    "## Attacks\n",
    "* Ciphertext-only\n",
    "\n",
    "\\begin{equation*}\n",
    "\\text{Given:   } C_1 = E_k(P_1), C_2 = E_k(P_2) \\cdots C_i=E_k(P_i)\n",
    "\\end{equation*}\n",
    "\n",
    "\\begin{equation*}\n",
    "\\text{Deduce Either:   } P_1, P_2, \\cdots P_i, k\n",
    "\\end{equation*}\n",
    "\n",
    "\\begin{equation*}\n",
    "\\text{... or an algorithm to infer:   }    P_{i + 1} \\text{  from  } C_{i + 1} = E_k(P_{i + 1})\n",
    "\\end{equation*}\n",
    "\n",
    "\n"
   ]
  },
  {
   "cell_type": "markdown",
   "metadata": {
    "slideshow": {
     "slide_type": "subslide"
    }
   },
   "source": [
    "## Attacks\n",
    "* Known-plaintext\n",
    "* Chosen-plaintext (Cryptanalyst gets to choose the plaintext)\n",
    "\n",
    "\\begin{equation*}\n",
    "\\text{Given:   } P_1, C_1 = E_k(P_1), P_2, C_2 = E_k(P_2) \\cdots P_i, C_i=E_k(P_i)\n",
    "\\end{equation*}\n",
    "\n",
    "\\begin{equation*}\n",
    "\\text{Deduce Either:   } k\n",
    "\\end{equation*}\n",
    "\n",
    "\\begin{equation*}\n",
    "\\text{... or an algorithm to infer:   }    P_{i + 1} \\text{  from  } C_{i + 1} = E_k(P_{i + 1})\n",
    "\\end{equation*}\n"
   ]
  },
  {
   "cell_type": "markdown",
   "metadata": {
    "slideshow": {
     "slide_type": "subslide"
    }
   },
   "source": [
    "## Attacks\n",
    "* Adaptive-chosen-plaintext\n",
    "* Chosen-ciphertext\n",
    "* Chosen-key - cryptanalyst has knowledge of the relationsip between different keys - not very practical\n",
    "* Rubber-hose cryptanalysis"
   ]
  },
  {
   "cell_type": "markdown",
   "metadata": {
    "slideshow": {
     "slide_type": "notes"
    }
   },
   "source": [
    "### Notes\n",
    "\n",
    "Chosen-plaintext and known-plaintext are more common than at first glance. If a message is given to an ambassador to relay to his country, you will probably find that it gets encrypted and sent back.\n",
    "\n",
    "Further, source code and othe messages with common headers and footers are also vulnerable to known-plaintext.\n",
    "\n",
    "Kerchoff's assumption: If the strength of your cryptosystem relies on the fact the attacker doesn't know your algorithm, you're sunk. \n",
    "\n",
    "The best algorithms we have are public, have been attacked by the best cryptographers in the world, and are still unbreakable. NOTE: the NSA keeps their algorithms secret, but they have a team of researchers that can peer-review their work."
   ]
  },
  {
   "cell_type": "markdown",
   "metadata": {
    "slideshow": {
     "slide_type": "subslide"
    }
   },
   "source": [
    "### Breaking Algorithms\n",
    "\n",
    "1. Total Break - Cryptanalyst finds the key to decrypt all messages\n",
    "2. Global Deduction - An Alternate equivalent algorithm is found\n",
    "3. Instance Deduction - Found plaintext\n",
    "4. Information Deduction - Partial plaintext or key found"
   ]
  },
  {
   "cell_type": "markdown",
   "metadata": {
    "slideshow": {
     "slide_type": "fragment"
    }
   },
   "source": [
    "### Complexity\n",
    "1. Data Complexity\n",
    "2. Processing Complexity - \"Work Factor\"\n",
    "3. Storage Requirements - Memory"
   ]
  },
  {
   "cell_type": "markdown",
   "metadata": {
    "slideshow": {
     "slide_type": "notes"
    }
   },
   "source": [
    "* Instance - found one specific plaintext from specific cipher text\n",
    "* Information Deduction - found only part (a few bits) of the key"
   ]
  },
  {
   "cell_type": "markdown",
   "metadata": {
    "slideshow": {
     "slide_type": "subslide"
    }
   },
   "source": [
    "## Example\n",
    "\n",
    "* If Complexity = $2^{128}$, then $2^{128}$ brute force operations are required to break it.\n",
    "* Using $10^9$ processors, each performing $10^9$ operations per second:\n",
    "\n",
    "\\begin{equation*}\n",
    "\\frac{\\frac{2^{128}}{(10^9 \\times 10^9)}}{3.154\\times10^7} = 1.08 \\times 10^{13} \\text{  years }\n",
    "\\end{equation*}\n",
    "\n",
    "3.154×10^7 = # of seconds per year\n",
    "[Wolphram Alpa Link][1]\n",
    "\n",
    "[1]: https://www.wolframalpha.com/input/?i=2%5E128+%2F+(10%5E9+*+10%5E9)+%2F+3.154%C3%9710%5E7\n",
    "\n",
    "\n"
   ]
  },
  {
   "cell_type": "markdown",
   "metadata": {
    "slideshow": {
     "slide_type": "notes"
    }
   },
   "source": [
    "### Notes\n",
    "\n",
    "* Value of data decreases over time\n",
    "* Cost of decrypting (brute-forcing) encrypted text should be larger than the value of the data\n",
    "* Unconditionally Secure: no matter how much ciphertext, there is insufficient information to recover the plaintext\n",
    "* All Cryptosystems besides a one-time pad are succesptible to a Brute Force attack of trying all possible keys\n",
    "* Computationally Secure: cannot be broken with \"available resources\""
   ]
  },
  {
   "cell_type": "markdown",
   "metadata": {
    "slideshow": {
     "slide_type": "subslide"
    }
   },
   "source": [
    "## Steganography\n",
    "\n",
    "* `The practice of concealing messages or information within other nonsecret text or data.`\n",
    "\n",
    "E.g.:\n",
    "* Invisible Inks\n",
    "* Pin Punctures\n",
    "* Pencil Marks on typewritten characters\n",
    "* Least Significant Bit of Images: 64 KB in a 1024 x 1024 grayscale image"
   ]
  },
  {
   "cell_type": "markdown",
   "metadata": {
    "slideshow": {
     "slide_type": "subslide"
    }
   },
   "source": [
    "## Substitution Ciphers:\n",
    "* Simple (ROT13 - Caesar Cipher)\n",
    "* Homophonic -  A single letter could map to one of several replacement letters\n",
    "* Polygram - Groups of letters encrypted together\n",
    "* Polyalphabetic - Multiple simple ciphers, changing for each character"
   ]
  },
  {
   "cell_type": "markdown",
   "metadata": {
    "slideshow": {
     "slide_type": "notes"
    }
   },
   "source": [
    "### Notes\n",
    "* Homophonic -  A single letter could map to one of several replacement letters\n",
    "* Polygram - Groups of letters encrypted together\n",
    "* Polyalphabetic - Multiple simple ciphers, changing for each character"
   ]
  },
  {
   "cell_type": "markdown",
   "metadata": {
    "slideshow": {
     "slide_type": "subslide"
    }
   },
   "source": [
    "## One-Time Pads\n",
    "\n",
    "Plaintext: `ONETIMEPAD`\n",
    "\n",
    "Key: `TBFRGFARFM`\n",
    "\n",
    "Ciphertext: `HOJKOREGFP`"
   ]
  },
  {
   "cell_type": "code",
   "execution_count": 1,
   "metadata": {
    "slideshow": {
     "slide_type": "fragment"
    }
   },
   "outputs": [],
   "source": [
    "key = 'TBFRGFARFM'\n",
    "\n",
    "def otp_encrypt(message):\n",
    "    ciphertext = ''\n",
    "    for idx, c in enumerate(message):\n",
    "        m, k = ord(c), ord(key[idx])\n",
    "        ciphertext += chr((ord(c) + ord(key[idx])) % 26 + 65)\n",
    "    \n",
    "    return ciphertext\n",
    "\n",
    "def otp_decrypt(ciphertext):\n",
    "    message = ''\n",
    "    for idx, c in enumerate(ciphertext):\n",
    "        m, k = ord(c), ord(key[idx])\n",
    "        message += chr((ord(c) - ord(key[idx])) % 26 + 65)\n",
    "    \n",
    "    return message"
   ]
  },
  {
   "cell_type": "code",
   "execution_count": 2,
   "metadata": {
    "slideshow": {
     "slide_type": "subslide"
    }
   },
   "outputs": [
    {
     "name": "stdout",
     "output_type": "stream",
     "text": [
      "HOJKOREGFP\n",
      "ONETIMEPAD\n",
      "SALMONEGGS\n",
      "GREENFLUID\n"
     ]
    }
   ],
   "source": [
    "\n",
    "print(otp_encrypt('ONETIMEPAD'))\n",
    "print(otp_decrypt(otp_encrypt('ONETIMEPAD')))\n",
    "key = 'POYYAEAAZX'\n",
    "print(otp_decrypt('HOJKOREGFP'))\n",
    "key = 'BXFGBMTMXM'\n",
    "print(otp_decrypt('HOJKOREGFP'))"
   ]
  },
  {
   "cell_type": "markdown",
   "metadata": {
    "slideshow": {
     "slide_type": "subslide"
    }
   },
   "source": [
    "## XOR\n",
    "<img src=\"img/xor.jpg\">"
   ]
  },
  {
   "cell_type": "markdown",
   "metadata": {
    "slideshow": {
     "slide_type": "subslide"
    }
   },
   "source": [
    "## Abbreviations\n",
    "* PBKDF2\n",
    "* HMAC\n",
    "* MD\n",
    "* DES\n",
    "* AES"
   ]
  },
  {
   "cell_type": "markdown",
   "metadata": {
    "slideshow": {
     "slide_type": "notes"
    }
   },
   "source": [
    "* Password Based Key Derifivation Function\n",
    "* Hashed Message Authentication Code\n",
    "* Message Digest\n",
    "* Data Encryption Standard - Believed secure in Triple DES, but theoretical weaknesses exist in algorithm, but are impractical to reproduce\n",
    "* Advanced Encryption Standard - Announced by NIST in November 26, 2001"
   ]
  },
  {
   "cell_type": "markdown",
   "metadata": {
    "slideshow": {
     "slide_type": "slide"
    }
   },
   "source": [
    "<img src=\"img/dave_enough.png\" height=\"400\">"
   ]
  },
  {
   "cell_type": "markdown",
   "metadata": {
    "slideshow": {
     "slide_type": "slide"
    }
   },
   "source": [
    "## Features \n",
    "1. User Login (storing passwords)\n",
    "2. Storing OAuth2 refresh tokens"
   ]
  },
  {
   "cell_type": "markdown",
   "metadata": {
    "slideshow": {
     "slide_type": "fragment"
    }
   },
   "source": [
    "### QuickBooks Online OAuth2 Token Storage\n",
    "\n",
    "> Be sure to encrypt the refresh_token before saving it to persistent storage. Then, decrypt the it and store it in volatile memory when you need to use it to refresh the access_token.\n",
    "\n",
    "> OAuth 2.0\n",
    "Encrypt and store the refresh token and realmId in persistent memory.\n",
    "Encrypt the refresh token with a symmetric algorithm (3DES or AES). AES is preferred.\n",
    "Store your AES key in your app, in a separate configuration file."
   ]
  },
  {
   "cell_type": "markdown",
   "metadata": {
    "slideshow": {
     "slide_type": "slide"
    }
   },
   "source": [
    "<img src=\"img/alice_small.png\" height=\"400\">"
   ]
  },
  {
   "cell_type": "markdown",
   "metadata": {},
   "source": [
    "<img src=\"img/bob_password_field.png\" height=\"400\">"
   ]
  },
  {
   "cell_type": "markdown",
   "metadata": {
    "slideshow": {
     "slide_type": "slide"
    }
   },
   "source": [
    "<img src=\"img/boss_attention.png\" height=\"400\">"
   ]
  },
  {
   "cell_type": "markdown",
   "metadata": {
    "slideshow": {
     "slide_type": "slide"
    }
   },
   "source": [
    "## Option 1 - Plaintext\n",
    "\n",
    "* Alices finds [plaintextoffenders.com](http://plaintextoffenders.com/) - (now defunct)\n",
    "* Need Another option"
   ]
  },
  {
   "cell_type": "markdown",
   "metadata": {
    "slideshow": {
     "slide_type": "slide"
    }
   },
   "source": [
    "## Option 2 - Caeser Cipher (ROT13)"
   ]
  },
  {
   "cell_type": "code",
   "execution_count": 3,
   "metadata": {
    "slideshow": {
     "slide_type": "fragment"
    }
   },
   "outputs": [
    {
     "name": "stdout",
     "output_type": "stream",
     "text": [
      "Original: \"this is some text to encrypt\"\n",
      "Encoded: \"guvf vf fbzr grkg gb rapelcg\"\n",
      "Decoded: \"this is some text to encrypt\"\n"
     ]
    }
   ],
   "source": [
    "import codecs\n",
    "text = \"this is some text to encrypt\"\n",
    "encoded = codecs.encode(text, 'rot_13')\n",
    "decoded = codecs.encode(encoded, 'rot_13')\n",
    "print(f'Original: \"{text}\"\\nEncoded: \"{encoded}\"\\nDecoded: \"{decoded}\"')"
   ]
  },
  {
   "cell_type": "markdown",
   "metadata": {
    "slideshow": {
     "slide_type": "slide"
    }
   },
   "source": [
    "## Frequency Analysis\n",
    "\n",
    "<img src=\"img/English_letter_frequency_(frequency).svg\">\n",
    "\n",
    "By Nandhp - Own work; en:Letter frequency., Public Domain, https://commons.wikimedia.org/w/index.php?curid=9971079"
   ]
  },
  {
   "cell_type": "markdown",
   "metadata": {
    "slideshow": {
     "slide_type": "slide"
    }
   },
   "source": [
    "## Base64 Encoding"
   ]
  },
  {
   "cell_type": "code",
   "execution_count": 4,
   "metadata": {
    "slideshow": {
     "slide_type": "fragment"
    }
   },
   "outputs": [
    {
     "name": "stdout",
     "output_type": "stream",
     "text": [
      "Original: \"b'this is some text to encrypt'\n",
      "Encoded: b'dGhpcyBpcyBzb21lIHRleHQgdG8gZW5jcnlwdA=='\n",
      "Decoded: b'this is some text to encrypt'\n"
     ]
    }
   ],
   "source": [
    "import base64\n",
    "text = b'this is some text to encrypt'\n",
    "encoded = base64.b64encode(text)\n",
    "decoded = base64.b64decode(encoded)\n",
    "print(f'Original: \"{text}\\nEncoded: {encoded}\\nDecoded: {decoded}')"
   ]
  },
  {
   "cell_type": "code",
   "execution_count": 5,
   "metadata": {
    "slideshow": {
     "slide_type": "fragment"
    }
   },
   "outputs": [
    {
     "name": "stdout",
     "output_type": "stream",
     "text": [
      "Original: \"b'this is a secret message'\n",
      "Encoded: b'dGhpcyBpcyBhIHNlY3JldCBtZXNzYWdl'\n",
      "Decoded: b'this is a secret message'\n"
     ]
    }
   ],
   "source": [
    "text = b'this is a secret message'\n",
    "encoded = base64.b64encode(text)\n",
    "decoded = base64.b64decode(encoded)\n",
    "print(f'Original: \"{text}\\nEncoded: {encoded}\\nDecoded: {decoded}')"
   ]
  },
  {
   "cell_type": "markdown",
   "metadata": {
    "slideshow": {
     "slide_type": "slide"
    }
   },
   "source": [
    "## Hashes\n",
    "### 5 Properties\n",
    "\n",
    "1. it is deterministic so the same message always results in the same hash\n",
    "2. it is quick to compute the hash value for any given message\n",
    "3. it is infeasible to generate a message from its hash value except by trying all possible messages\n",
    "4. a small change to a message should change the hash value so extensively that the new hash value appears uncorrelated with the old hash value\n",
    "5. it is infeasible to find two different messages with the same hash value\n",
    "\n",
    "### Examples\n",
    "\n",
    "* MD5 - Has been shown to have produce collisions via \"birthday attack\" \n",
    "* SHA1 - Has been shown to collide with two dissimilar PDF files\n",
    "* SHA-2 - 256 - 512\n",
    "* SHA-3 also exists and is a good choice too"
   ]
  },
  {
   "cell_type": "markdown",
   "metadata": {
    "slideshow": {
     "slide_type": "notes"
    }
   },
   "source": [
    "SHAttered – first public collision[edit]\n",
    "On 23 February 2017, the CWI (Centrum Wiskunde & Informatica) and Google announced the SHAttered attack, in which they generated two different PDF files with the same SHA-1 hash in roughly $2^{63.1}$ SHA-1 evaluations. This attack is about 100,000 times faster than brute forcing a SHA-1 collision with a birthday attack, which was estimated to take $2^{80}$ SHA-1 evaluations. The attack required \"the equivalent processing power as 6,500 years of single-CPU computations and 110 years of single-GPU computations"
   ]
  },
  {
   "cell_type": "code",
   "execution_count": 6,
   "metadata": {
    "slideshow": {
     "slide_type": "subslide"
    }
   },
   "outputs": [
    {
     "name": "stdout",
     "output_type": "stream",
     "text": [
      "cfcd208495d565ef66e7dff9f98764da\n",
      "c4ca4238a0b923820dcc509a6f75849b\n"
     ]
    }
   ],
   "source": [
    "import hashlib\n",
    "print(hashlib.md5(b'0').hexdigest())\n",
    "print(hashlib.md5(b'1').hexdigest())"
   ]
  },
  {
   "cell_type": "code",
   "execution_count": 7,
   "metadata": {
    "slideshow": {
     "slide_type": "subslide"
    }
   },
   "outputs": [
    {
     "name": "stdout",
     "output_type": "stream",
     "text": [
      "d14a028c2a3a2bc9476102bb288234c415a2b01f828ea62ac5b3e42f\n",
      "e3b0c44298fc1c149afbf4c8996fb92427ae41e4649b934ca495991b7852b855\n",
      "38b060a751ac96384cd9327eb1b1e36a21fdb71114be07434c0cc7bf63f6e1da274edebfe76f65fbd51ad2f14898b95b\n",
      "cf83e1357eefb8bdf1542850d66d8007d620e4050b5715dc83f4a921d36ce9ce47d0d13c5d85f2b0ff8318d2877eec2f63b931bd47417a81a538327af927da3e\n"
     ]
    }
   ],
   "source": [
    "print(hashlib.sha224(b'').hexdigest())\n",
    "print(hashlib.sha256(b'').hexdigest())\n",
    "print(hashlib.sha384(b'').hexdigest())\n",
    "print(hashlib.sha512(b'').hexdigest())"
   ]
  },
  {
   "cell_type": "code",
   "execution_count": 8,
   "metadata": {
    "slideshow": {
     "slide_type": "subslide"
    }
   },
   "outputs": [
    {
     "name": "stdout",
     "output_type": "stream",
     "text": [
      "d131dd02c5e6eec4693d9a0698aff95c2fcab58712467eab4004583eb8fb7f8955ad340609f4b30283e488832571415a085125e8f7cdc99fd91dbdf280373c5bd8823e3156348f5bae6dacd436c919c6dd53e2b487da03fd02396306d248cda0e99f33420f577ee8ce54b67080a80d1ec69821bcb6a8839396f9652b6ff72a70\n",
      "------\n",
      "d131dd02c5e6eec4693d9a0698aff95c2fcab50712467eab4004583eb8fb7f8955ad340609f4b30283e4888325f1415a085125e8f7cdc99fd91dbd7280373c5bd8823e3156348f5bae6dacd436c919c6dd53e23487da03fd02396306d248cda0e99f33420f577ee8ce54b67080280d1ec69821bcb6a8839396f965ab6ff72a70\n"
     ]
    }
   ],
   "source": [
    "\n",
    "file1, file2 = '', ''\n",
    "with open('md5/file1.txt', 'r') as f1:\n",
    "    file1 = ''.join(f1.readlines()).replace(' ', '').replace('\\n', '')\n",
    "with open('md5/file2.txt', 'r') as f2:\n",
    "    file2 = ''.join(f2.readlines()).replace(' ', '').replace('\\n', '')\n",
    "    \n",
    "print(file1)\n",
    "print('------')\n",
    "print(file2)\n",
    "    "
   ]
  },
  {
   "cell_type": "markdown",
   "metadata": {
    "slideshow": {
     "slide_type": "subslide"
    }
   },
   "source": [
    "<img src=\"img/md5_files.png\">"
   ]
  },
  {
   "cell_type": "code",
   "execution_count": 9,
   "metadata": {
    "slideshow": {
     "slide_type": "subslide"
    }
   },
   "outputs": [
    {
     "name": "stdout",
     "output_type": "stream",
     "text": [
      "79054025255fb1a26e4bc422aef54eb4\n",
      "79054025255fb1a26e4bc422aef54eb4\n"
     ]
    }
   ],
   "source": [
    "from binascii import unhexlify\n",
    "print(hashlib.md5(unhexlify(file1)).hexdigest())\n",
    "print(hashlib.md5(unhexlify(file2)).hexdigest())"
   ]
  },
  {
   "cell_type": "code",
   "execution_count": 10,
   "metadata": {
    "slideshow": {
     "slide_type": "subslide"
    }
   },
   "outputs": [
    {
     "name": "stdout",
     "output_type": "stream",
     "text": [
      "b'1428fb4a370a79b1196a41ccdaef31a130cea49e'\n",
      "b'1428fb4a370a79b1196a41ccdaef31a130cea49e'\n"
     ]
    }
   ],
   "source": [
    "import hashlib, binascii\n",
    "# hashlib.pbkdf2_hmac(hash_name, password, salt, iterations, dklen=None)\n",
    "dk = hashlib.pbkdf2_hmac('sha1', b'plnlrtfpijpuhqylxbgqiiyipieyxvfsavzgxbbcfusqkozwpngsyejqlmjsytrmd', b'A009C1A485912C6AE630D3E744240B04', 1000)\n",
    "dk2 = hashlib.pbkdf2_hmac('sha1', b\"eBkXQTfuBqp'cTcar&g*\", b'A009C1A485912C6AE630D3E744240B04', 1000)\n",
    "print(binascii.hexlify(dk))\n",
    "print(binascii.hexlify(dk2))"
   ]
  },
  {
   "cell_type": "markdown",
   "metadata": {
    "slideshow": {
     "slide_type": "notes"
    }
   },
   "source": [
    "PBKDF2 (password based key derivation function) has an interesting property when using HMAC (hashed message authentication code) as its pseudo-random function. It is possible to trivially construct any number of resulting collisions for different passwords. If a supplied password is longer than the block size of the underlying HMAC hash function, the password is first pre-hashed into a digest, and that digest is instead used as the password. \n",
    "\n",
    "HMAC provides both integrity and authentication of the cipher text"
   ]
  },
  {
   "cell_type": "markdown",
   "metadata": {
    "slideshow": {
     "slide_type": "subslide"
    }
   },
   "source": [
    "## LinkedIn Attack\n",
    "* Unsalted SHA-1 hashes used for password storage\n",
    "* [Detailed article](http://blog.erratasec.com/2012/06/linkedin-vs-password-cracking.html) showing the steps an attacker would take to identify the passwords from the hashed values\n",
    "* [SANS Article](https://www.sans.org/reading-room/whitepapers/basics/password-security-thirty-five-years-35592) on password security for the past 35 years\n",
    "  > ATI Radeon HD69xx can achieve 10.3\n",
    "billion single-round MD5 hashes per second or 2.6 billion single-round SHA1 hashes per second.\n",
    "One Radeon R9 295x2 GPU can brute force 23.2 billion single-round MD5 hashes per second or\n",
    "5.97 billion single-round SHA1 hashes per second"
   ]
  },
  {
   "cell_type": "markdown",
   "metadata": {
    "slideshow": {
     "slide_type": "notes"
    }
   },
   "source": [
    "* LinkedIn breach from 2012\n",
    "  * Link, from Robert Graham, explains in detail how to run (ocl)Hashcat to algorithmically obtain passwords. \n",
    "  * Possible attacks: Dictionary, mutated dictionary, rule based, custom character set, combination, brute force \n",
    "* Sans article from 2014"
   ]
  },
  {
   "cell_type": "code",
   "execution_count": 1,
   "metadata": {
    "slideshow": {
     "slide_type": "subslide"
    }
   },
   "outputs": [
    {
     "data": {
      "text/html": [
       "<iframe width=\"560\" height=\"315\" src=\"https://www.youtube.com/embed/p3a9xwJ6ACI?start=45&end=74\" frameborder=\"0\" allow=\"autoplay; encrypted-media\" allowfullscreen></iframe>"
      ],
      "text/plain": [
       "<IPython.core.display.HTML object>"
      ]
     },
     "execution_count": 1,
     "metadata": {},
     "output_type": "execute_result"
    }
   ],
   "source": [
    "# * 8 NVIDIA 1080 GPU Machine\n",
    "# * [Hashcat](https://hashcat.net/hashcat/) - 341 GH/z (NTLM)\n",
    "\n",
    "from IPython.display import HTML\n",
    "HTML('<iframe width=\"560\" height=\"315\" src=\"https://www.youtube.com/embed/p3a9xwJ6ACI?start=45&end=74\" frameborder=\"0\" allow=\"autoplay; encrypted-media\" allowfullscreen></iframe>')"
   ]
  },
  {
   "cell_type": "markdown",
   "metadata": {
    "slideshow": {
     "slide_type": "notes"
    }
   },
   "source": [
    "* 8 NVIDIA 1080 GPU Machine\n",
    "* [Hashcat](https://hashcat.net/hashcat/) - 341 GH/z (NTLM)\n",
    "\n",
    "* Single Vidia GTX 1080 on Newegg is $819\n",
    "* At 341 GH/s, can crack all 7 character NTLM passwords in 7 seconds"
   ]
  },
  {
   "cell_type": "markdown",
   "metadata": {
    "slideshow": {
     "slide_type": "slide"
    }
   },
   "source": [
    "## From MD5 to Argon2\n",
    "* Reset all users passwords all at once, requiring everyone to login and change their password\n",
    "* Change passwords in place"
   ]
  },
  {
   "cell_type": "markdown",
   "metadata": {
    "slideshow": {
     "slide_type": "notes"
    }
   },
   "source": [
    "* Note: IETF (Internet Engineering Task Force) as of January 2017 still recommends PBKDF2 as its password hashing algorithm. No mention of Argon2. Likely due to the new-ness of the Argon2 protocol.\n",
    "* Which option is preferred depends on the nature of the problem being solved.\n",
    "  * If there is no hurry and there are a lot of users, write some code to transition the hashed value to the new algorithm when the user logs in next.\n",
    "  * If there are few uers (i.e. an internal app), it might be simpler (i.e. require less developer time) to have everyone reset their passwords at the same time. \n",
    "* Argon2 was released as the winner in 2015. It has options to allow it to be tuned for time, memory, and parallelism to protect against attacks. This allows it to provide more forward secrecy as moore's law continues to provide more and faster computation capabilities."
   ]
  },
  {
   "cell_type": "code",
   "execution_count": 13,
   "metadata": {
    "slideshow": {
     "slide_type": "subslide"
    }
   },
   "outputs": [
    {
     "data": {
      "text/plain": [
       "'5f4dcc3b5aa765d61d8327deb882cf99'"
      ]
     },
     "execution_count": 13,
     "metadata": {},
     "output_type": "execute_result"
    }
   ],
   "source": [
    "username = \"user\".encode() # probably from a request object\n",
    "password = \"password\".encode() # probably from a request object\n",
    "\n",
    "hashed = hashlib.md5(password).hexdigest()\n",
    "hashed"
   ]
  },
  {
   "cell_type": "code",
   "execution_count": 14,
   "metadata": {
    "slideshow": {
     "slide_type": "subslide"
    }
   },
   "outputs": [
    {
     "name": "stdout",
     "output_type": "stream",
     "text": [
      "pbkdf2: $pbkdf2-sha256$29000$fS.lNIYQYiwFYKwV4jzHuA$RZgFmpgiEwLHkhVUGUJ5kwikPu7ZRIK7MOC.2A9HJsg\n",
      "argon2: $argon2i$v=19$m=512,t=2,p=2$AQBAKGXs3ZszhhBCyNk75w$Bp0Zkb+mD8JpuFmqf9fg1g\n",
      "True\n",
      "True\n"
     ]
    },
    {
     "data": {
      "text/plain": [
       "'$argon2i$v=19$m=1000,t=4,p=3$jtEaIyQk5BwjhJCScg4hhA$Froo6GG0AZ2e+Q7A3VsU6g'"
      ]
     },
     "execution_count": 14,
     "metadata": {},
     "output_type": "execute_result"
    }
   ],
   "source": [
    "from passlib.hash import argon2, pbkdf2_sha256\n",
    "\n",
    "ar2 = argon2.hash(password)\n",
    "pbkdf2 = pbkdf2_sha256.hash(password)\n",
    "print(f'pbkdf2: {pbkdf2}\\nargon2: {ar2}')\n",
    "print(argon2.verify('password', ar2))\n",
    "print(pbkdf2_sha256.verify('password', pbkdf2))\n",
    "argon2.using(rounds=4, memory_cost=1000, parallelism=3).hash('password')"
   ]
  },
  {
   "cell_type": "markdown",
   "metadata": {
    "slideshow": {
     "slide_type": "notes"
    }
   },
   "source": [
    "argon2i - Strongest against side-channel attacks\n",
    "argon2d - Strongest against GPU based attacks\n",
    "`Argon2d is faster and uses data-depending memory access, which makes it highly resistant against GPU cracking attacks and suitable for applications with no threats from side-channel timing attacks (eg. cryptocurrencies). Argon2i instead uses data-independent memory access, which is preferred for password hashing and password-based key derivation, but it is slower as it makes more passes over the memory to protect from tradeoff attacks. Argon2id is a hybrid of Argon2i and Argon2d, using a combination of data-depending and data-independent memory accesses, which gives some of Argon2i's resistance to side-channel cache timing attacks and much of Argon2d's resistance to GPU cracking attacks.`\n",
    "\n",
    "`The right rounds value for a given hash & server should be the largest possible value that doesn’t cause intolerable delay for your users.`\n",
    "\n",
    "M is an integer representing the variable memory cost, in kibibytes (512kib in the example).\n",
    "T is an integer representing the variable time cost, in linear iterations. (3 in the example).\n",
    "P is a parallelization parameter, which controls how much of the hash calculation is parallelization (2 in the example).\n",
    "\n",
    "Next: Auth0"
   ]
  },
  {
   "cell_type": "markdown",
   "metadata": {
    "slideshow": {
     "slide_type": "slide"
    }
   },
   "source": [
    "<img src=\"img/auth0.png\">\n",
    "<img src=\"img/auth0_pricing.png\">"
   ]
  },
  {
   "cell_type": "markdown",
   "metadata": {
    "slideshow": {
     "slide_type": "subslide"
    }
   },
   "source": [
    "## Other Options\n",
    "\n",
    "<table border=\"0\">\n",
    "    <tr>\n",
    "        <td width=\"300\"><img src=\"img/sqrl.png\" width=\"150\"></td>\n",
    "        <td><img src=\"img/fido_alliance.png\"></td>\n",
    "    </tr>\n",
    "</table>"
   ]
  },
  {
   "cell_type": "markdown",
   "metadata": {
    "slideshow": {
     "slide_type": "notes"
    }
   },
   "source": [
    "* FIDO = Fast Identity Online\n",
    "* SQRL = Secure, Quick, Reliable, Login"
   ]
  },
  {
   "cell_type": "markdown",
   "metadata": {
    "slideshow": {
     "slide_type": "slide"
    }
   },
   "source": [
    "## Encryption\n",
    "* Encrypt and decrypt a refresh_token for OAuth2\n",
    "* Token will be valid for up to 100 days, and can be reused to generate a new access_token to gain API access to QuickBooks."
   ]
  },
  {
   "cell_type": "markdown",
   "metadata": {
    "slideshow": {
     "slide_type": "subslide"
    }
   },
   "source": [
    "## AES - Subset of Rijndael\n",
    "* Vincent Rijmen and Joan Daemen - Belgian Cryptographers\n",
    "* 128 bit blocks with keys of 128, 192, or 256 bits\n"
   ]
  },
  {
   "cell_type": "markdown",
   "metadata": {
    "slideshow": {
     "slide_type": "notes"
    }
   },
   "source": [
    "* Rijndael the Cipher itself can handle block and key sizes of any 32 bit multiple. AES standardizes on 128 bit blocks, and 128, 192, or 256 bit keys"
   ]
  },
  {
   "cell_type": "code",
   "execution_count": 15,
   "metadata": {
    "slideshow": {
     "slide_type": "subslide"
    }
   },
   "outputs": [
    {
     "data": {
      "text/html": [
       "<iframe width=\"560\" height=\"315\" src=\"https://www.youtube.com/embed/mlzxpkdXP58\" frameborder=\"0\" allow=\"autoplay; encrypted-media\" allowfullscreen></iframe>"
      ],
      "text/plain": [
       "<IPython.core.display.HTML object>"
      ]
     },
     "execution_count": 15,
     "metadata": {},
     "output_type": "execute_result"
    }
   ],
   "source": [
    "from IPython.display import HTML\n",
    "\n",
    "HTML('<iframe width=\"560\" height=\"315\" src=\"https://www.youtube.com/embed/mlzxpkdXP58\" frameborder=\"0\" allow=\"autoplay; encrypted-media\" allowfullscreen></iframe>')"
   ]
  },
  {
   "cell_type": "markdown",
   "metadata": {
    "slideshow": {
     "slide_type": "notes"
    }
   },
   "source": [
    "* XOR error at 2:33, but otherwise the concepts of the visualization are sound\n",
    "* By 2006, the best known attacks were on 7 rounds for 128-bit keys, 8 rounds for 192-bit keys, and 9 rounds for 256-bit keys\n",
    "* Various Side-channel attacks have been shown to be effective against AES. \n",
    "* 128 bit key for SECRET, 192 or 256 for TOP SECRET classified information\n",
    "* AES has 10 rounds for 128-bit keys, 12 rounds for 192-bit keys, and 14 rounds for 256-bit keys."
   ]
  },
  {
   "cell_type": "code",
   "execution_count": 2,
   "metadata": {
    "slideshow": {
     "slide_type": "subslide"
    }
   },
   "outputs": [
    {
     "name": "stdout",
     "output_type": "stream",
     "text": [
      "b'gAAAAABadF5TFpSj7tIFDOn3wKSog-amxiHF7RHNfNvoUNVV14e6gGD2A79WfeOGKl4OJpx4F6M25E0ZUEOnBiTEpnHOYYMeiLUd-9fEmmNh4k2nMc5N59YeweH_flwx2v0KtOKCu61U'\n"
     ]
    },
    {
     "data": {
      "text/plain": [
       "b'A really secret message. Not for prying eyes.'"
      ]
     },
     "execution_count": 2,
     "metadata": {},
     "output_type": "execute_result"
    }
   ],
   "source": [
    "from cryptography.fernet import Fernet\n",
    "from base64 import urlsafe_b64decode\n",
    "# Put this somewhere safe!\n",
    "key = Fernet.generate_key()\n",
    "f = Fernet(key)\n",
    "token = f.encrypt(b\"A really secret message. Not for prying eyes.\")\n",
    "print(token)\n",
    "# print(urlsafe_b64decode(token))\n",
    "f.decrypt(token)"
   ]
  },
  {
   "cell_type": "code",
   "execution_count": 4,
   "metadata": {
    "slideshow": {
     "slide_type": "subslide"
    }
   },
   "outputs": [
    {
     "name": "stdout",
     "output_type": "stream",
     "text": [
      "b'gAAAAABadF6SH6IeIWsvwlRDs_TJB7k6mBcTAlGh-b5dNTTEqyHeNX1tE2ZwxnTwgNFJTY1IKhwGruvEFZAktgSOehJ6qFMBZk2Mpgy5WCX-NB6LmnnXZOQ='\n",
      "b'gAAAAABadF6SJEkmMUytQ5z5qmuqM281qdhuvUcTwItmroqh48WEyzbg5f6VEodiIGWtfPxU8zk5s2efy1avVKP9KBSqKEDlYGorfnC0ZaJZx122sfETWF-ZsZFsfhwWqGelnCPK8Jhf'\n"
     ]
    }
   ],
   "source": [
    "print(f.encrypt(b'some other message'))\n",
    "print(f.encrypt(b'a third and completely different message'))"
   ]
  },
  {
   "cell_type": "markdown",
   "metadata": {
    "slideshow": {
     "slide_type": "notes"
    }
   },
   "source": [
    "Several notes about the Fernet algorithm:\n",
    "\n",
    "* The Version number was not incremented despite several spec-level changes to the /spec repository\n",
    "* Fernet uses a 128 bit Signging Key and a 128 bit encryption key\n",
    "* Fernet as a protocol seems to have originated with Heroku, and was used for data in transit. Since it is the default implementation in the Cryptography library in Python, it makes sense for ease of use."
   ]
  },
  {
   "cell_type": "markdown",
   "metadata": {
    "slideshow": {
     "slide_type": "subslide"
    }
   },
   "source": [
    "## Fernet Spec\n",
    "\n",
    "    Version ‖ Timestamp ‖ IV ‖ Ciphertext ‖ HMAC\n",
    "\n",
    "- *Version*, 8 bits\n",
    "- *Timestamp*, 64 bits\n",
    "- *IV*, 128 bits\n",
    "- *Ciphertext*, variable length, multiple of 128 bits\n",
    "- *HMAC*, 256 bits"
   ]
  },
  {
   "cell_type": "code",
   "execution_count": 7,
   "metadata": {
    "slideshow": {
     "slide_type": "subslide"
    }
   },
   "outputs": [
    {
     "name": "stdout",
     "output_type": "stream",
     "text": [
      "b'gAAAAABadHJzxM1o1S_XVvchNLaTCcV-tH-bmfZqc-XDNI34ll09vBdEfaVH4g9sPu436stWl4Hq0QMmQVQgAZWNhcibphwrKA=='\n"
     ]
    },
    {
     "data": {
      "text/plain": [
       "b'Secret message!'"
      ]
     },
     "execution_count": 7,
     "metadata": {},
     "output_type": "execute_result"
    }
   ],
   "source": [
    "import base64\n",
    "import os\n",
    "from cryptography.fernet import Fernet\n",
    "from cryptography.hazmat.backends import default_backend\n",
    "from cryptography.hazmat.primitives import hashes\n",
    "from cryptography.hazmat.primitives.kdf.pbkdf2 import PBKDF2HMAC\n",
    "password = b\"password\"\n",
    "salt = os.urandom(16)\n",
    "kdf = PBKDF2HMAC(\n",
    "     algorithm=hashes.SHA256(),\n",
    "     length=32,\n",
    "     salt=salt,\n",
    "     iterations=400000,\n",
    "     backend=default_backend()\n",
    ")\n",
    "key = base64.urlsafe_b64encode(kdf.derive(password))\n",
    "f = Fernet(key)\n",
    "token = f.encrypt(b\"Secret message!\")\n",
    "print(token)\n",
    "f.decrypt(token)"
   ]
  },
  {
   "cell_type": "markdown",
   "metadata": {
    "slideshow": {
     "slide_type": "notes"
    }
   },
   "source": [
    "* Django documentation recommended at least 100,000 iterations back in 2014."
   ]
  },
  {
   "cell_type": "code",
   "execution_count": 3,
   "metadata": {
    "slideshow": {
     "slide_type": "skip"
    }
   },
   "outputs": [
    {
     "data": {
      "text/plain": [
       "'10000000 - 00000000 - 00000000 - 00000000 - 00000000 - 01011010 - 01110100 - 01011110 - 01010011 - 00010110 - 10010100 - 10100011 - 11101110 - 11010010 - 00000101 - 00001100 - 11101001 - 11110111 - 11000000 - 10100100 - 10101000 - 10000011 - 11100110 - 10100110 - 11000110 - 00100001 - 11000101 - 11101101 - 00010001 - 11001101 - 01111100 - 11011011 - 11101000 - 01010000 - 11010101 - 01010101 - 11010111 - 10000111 - 10111010 - 10000000 - 01100000 - 11110110 - 00000011 - 10111111 - 01010110 - 01111101 - 11100011 - 10000110 - 00101010 - 01011110 - 00001110 - 00100110 - 10011100 - 01111000 - 00010111 - 10100011 - 00110110 - 11100100 - 01001101 - 00011001 - 01010000 - 01000011 - 10100111 - 00000110 - 00100100 - 11000100 - 10100110 - 01110001 - 11001110 - 01100001 - 10000011 - 00011110 - 10001000 - 10110101 - 00011101 - 11111011 - 11010111 - 11000100 - 10011010 - 01100011 - 01100001 - 11100010 - 01001101 - 10100111 - 00110001 - 11001110 - 01001101 - 11100111 - 11010110 - 00011110 - 11000001 - 11100001 - 11111111 - 01111110 - 01011100 - 00110001 - 11011010 - 11111101 - 00001010 - 10110100 - 11100010 - 10000010 - 10111011 - 10101101 - 01010100'"
      ]
     },
     "execution_count": 3,
     "metadata": {},
     "output_type": "execute_result"
    }
   ],
   "source": [
    "' - '.join(['{0:08b}'.format(t) for t in urlsafe_b64decode(token)])"
   ]
  },
  {
   "cell_type": "markdown",
   "metadata": {
    "slideshow": {
     "slide_type": "slide"
    }
   },
   "source": [
    "## Conclusion\n",
    "\n",
    "* Cryptography is Hard"
   ]
  },
  {
   "cell_type": "markdown",
   "metadata": {
    "slideshow": {
     "slide_type": "fragment"
    }
   },
   "source": [
    "* Cryptography is the easy part"
   ]
  },
  {
   "cell_type": "markdown",
   "metadata": {
    "slideshow": {
     "slide_type": "notes"
    }
   },
   "source": [
    "* Crypto has well defined boundaries and requirements. An entire system is complex with many possibilities for compromise"
   ]
  },
  {
   "cell_type": "markdown",
   "metadata": {
    "slideshow": {
     "slide_type": "slide"
    }
   },
   "source": [
    "## Further Reading\n",
    "<img src=\"img/applied_crypto.jpg\" style=\"float: left; padding-right: 5px\" height=\"350px\">\n",
    "<img src=\"img/crypto_engineering.jpg\" height=\"350px\">"
   ]
  },
  {
   "cell_type": "markdown",
   "metadata": {
    "slideshow": {
     "slide_type": "slide"
    }
   },
   "source": [
    "## Fin\n",
    "\n",
    "* Questions?"
   ]
  },
  {
   "cell_type": "markdown",
   "metadata": {
    "slideshow": {
     "slide_type": "slide"
    }
   },
   "source": [
    "Final Challenge:\n",
    "\n",
    "`UGxlYXNlIGxldCBtZSBrbm93IHdoYXQgeW91IHRoaW5rIG9mIG15IHRhbGs6DQoNCmh0dHA6Ly9zcGtyOC5jb20vdC83NDMyMQ==`"
   ]
  },
  {
   "cell_type": "markdown",
   "metadata": {
    "slideshow": {
     "slide_type": "slide"
    }
   },
   "source": [
    "## Notes:\n",
    "Security Now Transcripts:\n",
    "* [Cryptographic Backdoors](https://www.grc.com/sn/sn-491.pdf)\n",
    "* [Eliptic Curve Cryptography](https://www.grc.com/sn/sn-374.pdf) - Also available in Applied Crypto book\n",
    "* [Authenticated Encryption](https://www.grc.com/sn/sn-460-notes.pdf)\n",
    "* [Symetric Ciphers](https://www.grc.com/sn/sn-125.pdf)\n",
    "* [NSA Fingerprints](https://www.grc.com/sn/sn-644-notes.pdf)"
   ]
  },
  {
   "cell_type": "markdown",
   "metadata": {
    "slideshow": {
     "slide_type": "slide"
    }
   },
   "source": [
    "## References\n",
    "\n",
    "* [Password Hashing Competition](https://password-hashing.net/)\n",
    "* [Password Security for 35 Years](https://www.sans.org/reading-room/whitepapers/basics/password-security-thirty-five-years-35592)\n",
    "* [Painless Password Migration](https://veggiespam.com/painless-password-hash-upgrades/)"
   ]
  },
  {
   "cell_type": "code",
   "execution_count": null,
   "metadata": {},
   "outputs": [],
   "source": []
  }
 ],
 "metadata": {
  "celltoolbar": "Slideshow",
  "kernelspec": {
   "display_name": "Python 3",
   "language": "python",
   "name": "python3"
  },
  "language_info": {
   "codemirror_mode": {
    "name": "ipython",
    "version": 3
   },
   "file_extension": ".py",
   "mimetype": "text/x-python",
   "name": "python",
   "nbconvert_exporter": "python",
   "pygments_lexer": "ipython3",
   "version": "3.6.4"
  }
 },
 "nbformat": 4,
 "nbformat_minor": 2
}
